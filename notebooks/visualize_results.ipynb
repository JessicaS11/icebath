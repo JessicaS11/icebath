{
 "cells": [
  {
   "cell_type": "markdown",
   "metadata": {},
   "source": [
    "# Development notebook for visualizing inferred bathymetries\n",
    "\n",
    "by Jessica Scheick\n",
    "\n",
    "Workflow based on previous methods and code developed by JScheick for Scheick et al 2019 *Remote Sensing*.\n",
    "\n",
    "***Important note about CRS handling*** This code was developed while also learning about Xarray, rioxarray, rasterio, and other Python geospatial libraries. Since projections are not yet fully handled [smoothly] in any of those resources, and especially not integrated, there's little to no built in checking or handling of CRS. Instead, handling is done manually throughout the code and external to this notebook. This is critical to know because the CRS displayed by a rioxarray dataset may be from one variable added to the dataset, but is not necessarily the original (or read in) CRS for each variable in the dataset (hence the manual, external handling). The `get_mask` and `get_new_var_from_file` methods should reproject new data sources before adding them to the dataset."
   ]
  },
  {
   "cell_type": "code",
   "execution_count": null,
   "metadata": {},
   "outputs": [],
   "source": [
    "import geopandas as gpd\n",
    "import numpy as np\n",
    "import pandas as pd\n",
    "import xarray as xr\n",
    "import matplotlib.pyplot as plt\n",
    "import matplotlib as mpl\n",
    "import matplotlib.gridspec as gridspec\n",
    "%matplotlib inline\n",
    "import hvplot.xarray\n",
    "# import hvplot.pandas\n",
    "import holoviews as hv\n",
    "hv.extension('bokeh','matplotlib')\n",
    "from holoviews import dim, opts\n",
    "import datetime as dt\n",
    "import os\n",
    "import panel as pn\n",
    "pn.extension()\n",
    "import pyproj\n",
    "import rioxarray"
   ]
  },
  {
   "cell_type": "code",
   "execution_count": null,
   "metadata": {},
   "outputs": [],
   "source": [
    "%load_ext autoreload\n",
    "import icebath as icebath\n",
    "from icebath.core import build_xrds\n",
    "from icebath.utils import raster_ops as raster_ops\n",
    "from icebath.utils import vector_ops as vector_ops\n",
    "from icebath.core import fl_ice_calcs as icalcs\n",
    "from icebath.core import build_gdf\n",
    "%autoreload 2"
   ]
  },
  {
   "cell_type": "markdown",
   "metadata": {},
   "source": [
    "## Read in inferred water depths"
   ]
  },
  {
   "cell_type": "code",
   "execution_count": null,
   "metadata": {},
   "outputs": [],
   "source": [
    "outdir = \"/Users/jessica/projects/bathymetry_from_bergs/results/\"\n",
    "resfile = [f for f in os.listdir(outdir) if f.endswith('_combined_results.gpkg')][0]\n",
    "print(resfile)"
   ]
  },
  {
   "cell_type": "code",
   "execution_count": null,
   "metadata": {},
   "outputs": [],
   "source": [
    "gdf = gpd.read_file(outdir+resfile, ignore_index=True)"
   ]
  },
  {
   "cell_type": "code",
   "execution_count": null,
   "metadata": {
    "scrolled": true
   },
   "outputs": [],
   "source": [
    "gdf.head() #[gdf['date'].dt.year.astype(int)==2016]"
   ]
  },
  {
   "cell_type": "markdown",
   "metadata": {},
   "source": [
    "## Plot the measured and inferred values\n",
    "Plots the gridded versus iceberg-freeboard-inferred values for all icebergs relative to the values in BedMachine and IBCAO.\n",
    "\n",
    "Left plot shows measured values within the gridded datasets; right plot show the modeled/inferred values within the gridded data products (hence the larger error bars)."
   ]
  },
  {
   "cell_type": "code",
   "execution_count": null,
   "metadata": {},
   "outputs": [],
   "source": [
    "from icebath.utils import plot as ibplot"
   ]
  },
  {
   "cell_type": "code",
   "execution_count": null,
   "metadata": {},
   "outputs": [],
   "source": [
    "ibplot.meas_vs_infer_fig(gdf, save=False)"
   ]
  },
  {
   "cell_type": "markdown",
   "metadata": {},
   "source": [
    "## Construct a contour map utilizing the results and gridded product data\n",
    "\n",
    "### Create an Xarray dataset with the gridded products (BedMachine, IBCAO)\n",
    "\n",
    "***Improvement: add CRS handling/checks to catch when a measurement dataset is incompatible and needs to be reprojected***"
   ]
  },
  {
   "cell_type": "markdown",
   "metadata": {},
   "source": [
    "#### BedMachine Greenland"
   ]
  },
  {
   "cell_type": "code",
   "execution_count": null,
   "metadata": {},
   "outputs": [],
   "source": [
    "measfile='/Users/jessica/mapping/datasets/160281892/BedMachineGreenland-2017-09-20.nc'\n",
    "# measfile='/Users/jessica/mapping/datasets/160281892/BedMachineGreenland-2017-09-20_3413_'+ds.attrs['fjord']+'.nc'\n",
    "# measfile='/home/jovyan/icebath/notebooks/supporting_docs/160281892/BedMachineGreenland-2017-09-20.nc'\n",
    "# measfile='/home/jovyan/icebath/notebooks/supporting_docs/160281892/BedMachineGreenland-2017-09-20_'+ds.attrs['fjord']+'.nc'"
   ]
  },
  {
   "cell_type": "markdown",
   "metadata": {},
   "source": [
    "#### IBCAOv4\n",
    "https://www.gebco.net/data_and_products/gridded_bathymetry_data/arctic_ocean/\n",
    "\n",
    "Source keys: https://www.gebco.net/data_and_products/gridded_bathymetry_data/gebco_2020/\n",
    "\n",
    "Downloaded Feb 2021\n",
    "\n",
    "**NOTE** IBCAO has it's own Polar Stereo projection (EPSG:3996: WGS 84/IBCAO Polar Stereographic) so it needs to be reprojected before being applied to these datasets.\n",
    "See: https://spatialreference.org/ref/?search=Polar+Stereographic\n",
    "\n",
    "The variable name of one of the IBCAO input files must be changed during reprojection or it results in an error during merging."
   ]
  },
  {
   "cell_type": "code",
   "execution_count": null,
   "metadata": {},
   "outputs": [],
   "source": [
    "measfile2a='/Users/jessica/mapping/datasets/IBCAO_v4_200m_ice_3413.nc'\n",
    "# measfile2a='/Users/jessica/mapping/datasets/IBCAO_v4_200m_ice_3413_'+ds.attrs['fjord']+'.nc'\n",
    "# measfile2a='/home/jovyan/icebath/notebooks/supporting_docs/IBCAO_v4_200m_ice_3413.nc'\n",
    "# measfile2a='/home/jovyan/icebath/notebooks/supporting_docs/IBCAO_v4_200m_ice_3413_'+ds.attrs['fjord']+'.nc'\n",
    "measfile2b='/Users/jessica/mapping/datasets/IBCAO_v4_200m_TID_3413.nc'\n",
    "# measfile2b='/home/jovyan/icebath/notebooks/supporting_docs/IBCAO_v4_200m_TID_3413.nc'"
   ]
  },
  {
   "cell_type": "markdown",
   "metadata": {},
   "source": [
    "#### Get the coordinates of BedMachine nearest the regional bounds"
   ]
  },
  {
   "cell_type": "code",
   "execution_count": null,
   "metadata": {},
   "outputs": [],
   "source": [
    "from icebath.core import berggdf as bgdf\n",
    "# Kane region bbox\n",
    "kanereg = (-552082, -1125990, -248996, -828936)\n",
    "# bbox = (-552125, -1126025, -248975, -828875)\n",
    "bbox = bgdf.get_needed_extent(measfile, kanereg)"
   ]
  },
  {
   "cell_type": "markdown",
   "metadata": {},
   "source": [
    "#### Create the dataset"
   ]
  },
  {
   "cell_type": "code",
   "execution_count": null,
   "metadata": {},
   "outputs": [],
   "source": [
    "resds = build_xrds.read_netcdfs([measfile, measfile2a, measfile2b], extent=bbox)\n",
    "resds = resds.squeeze(drop=True)\n",
    "resds"
   ]
  },
  {
   "cell_type": "markdown",
   "metadata": {},
   "source": [
    "### Add the iceberg-inferred water depths"
   ]
  },
  {
   "cell_type": "code",
   "execution_count": null,
   "metadata": {},
   "outputs": [],
   "source": [
    "gdf['centroid'] = gdf.geometry.centroid\n",
    "gdf['poly'] = gdf.geometry\n",
    "gdf = gdf.drop(columns='geometry')\n",
    "gdf.set_geometry(col=\"centroid\", inplace=True)\n",
    "gdf['geometry'] = gdf.centroid"
   ]
  },
  {
   "cell_type": "code",
   "execution_count": null,
   "metadata": {},
   "outputs": [],
   "source": [
    "from functools import partial\n",
    "from geocube.api.core import make_geocube\n",
    "from geocube.rasterize import rasterize_points_griddata, rasterize_points_radial, rasterize_image\n",
    "from shapely.geometry import Point"
   ]
  },
  {
   "cell_type": "markdown",
   "metadata": {},
   "source": [
    "Note: make_geocube does not recognize geometry columns not named \"geometry\". It also only works for point geometries [when rasterizing?], not polygons (hence the use of the centroid, computed above in the geodataframe).\n",
    "\n",
    "There are multiple options for gridding the data, given by rasterize_function."
   ]
  },
  {
   "cell_type": "code",
   "execution_count": null,
   "metadata": {},
   "outputs": [],
   "source": [
    "import rasterio\n",
    "gdf_grid = make_geocube(vector_data=gdf,\n",
    "                        measurements=[\"filtered_draft_med\", \"filtered_draft_err\"],\n",
    "                        like=resds,\n",
    "                        fill=np.nan,\n",
    "#                         rasterize_function=partial(rasterize_points_griddata, method=\"linear\", filter_nan=True)\n",
    "                        rasterize_function=partial(rasterize_image, filter_nan=True)\n",
    "                       )"
   ]
  },
  {
   "cell_type": "code",
   "execution_count": null,
   "metadata": {},
   "outputs": [],
   "source": [
    "gdf_grid.filtered_draft_med.plot()"
   ]
  },
  {
   "cell_type": "code",
   "execution_count": null,
   "metadata": {},
   "outputs": [],
   "source": [
    "gdf_grid.filtered_draft_med.plot()"
   ]
  },
  {
   "cell_type": "code",
   "execution_count": null,
   "metadata": {},
   "outputs": [],
   "source": [
    "resds[\"filtered_draft_med\"] = gdf_grid.filtered_draft_med\n",
    "resds[\"filtered_draft_err\"] = gdf_grid.filtered_draft_err\n",
    "del gdf_grid\n",
    "resds"
   ]
  },
  {
   "cell_type": "code",
   "execution_count": null,
   "metadata": {},
   "outputs": [],
   "source": [
    "resds.mask.plot()"
   ]
  },
  {
   "cell_type": "code",
   "execution_count": null,
   "metadata": {},
   "outputs": [],
   "source": [
    "resds.filtered_draft_err.plot()"
   ]
  },
  {
   "cell_type": "code",
   "execution_count": null,
   "metadata": {},
   "outputs": [],
   "source": [
    "scrolldem = resds['filtered_draft_err'].hvplot.image(x='x', y='y',datashade=False, rasterize=True, aspect='equal', cmap='magma', dynamic=True,\n",
    "                       xlabel=\"x (km)\", ylabel=\"y (km)\", colorbar=True) #turn off datashade to see hover values + colorbar\n",
    "scrolldem"
   ]
  },
  {
   "cell_type": "markdown",
   "metadata": {},
   "source": [
    "Notes:\n",
    "There are no measurements for much of Kane (in either product)"
   ]
  },
  {
   "cell_type": "markdown",
   "metadata": {},
   "source": [
    "### Upsample the data and create the contour plot"
   ]
  },
  {
   "cell_type": "code",
   "execution_count": null,
   "metadata": {},
   "outputs": [],
   "source": [
    "from matplotlib.colors import LinearSegmentedColormap"
   ]
  },
  {
   "cell_type": "code",
   "execution_count": null,
   "metadata": {},
   "outputs": [],
   "source": [
    "%matplotlib inline"
   ]
  },
  {
   "cell_type": "code",
   "execution_count": null,
   "metadata": {},
   "outputs": [],
   "source": [
    "resds"
   ]
  },
  {
   "cell_type": "code",
   "execution_count": null,
   "metadata": {},
   "outputs": [],
   "source": [
    "# testing code\n",
    "# all_bathy = resds.filtered_draft_med_rast.where(~np.isnan(resds.filtered_draft_med_rast), other=meas_only)\n",
    "# all_bathy.hvplot()"
   ]
  },
  {
   "cell_type": "code",
   "execution_count": null,
   "metadata": {
    "scrolled": true
   },
   "outputs": [],
   "source": [
    "# POTENTIAL NEXT STEPS:\n",
    "# try doing this in holoviews to see if it is faster (especially to layer the plots) --> not at first attempt\n",
    "# fix the 0/nodata issue so that it uses the available data to contour where possible (but doesn't contour to 0)\n",
    "# move this plot creation into plot.py and just run it here to get the output"
   ]
  },
  {
   "cell_type": "code",
   "execution_count": null,
   "metadata": {},
   "outputs": [],
   "source": [
    "# generate data for plots - measured and inferred bathymetry\n",
    "# NOTE: this uses IBCAO because it has the OMG data included, whereas BedMachine v3 does not\n",
    "interp_meth = \"nearest\" # with rio.interpolate_na, you can only use nearest right now\n",
    "# linear and cubic need a fill_value specified, which is ignored with nearest but ends up being passed to\n",
    "# scipy as \"None\", thus breaking in scipy.interpolate.ndgriddata.griddata (perhaps in the def fill_value of interpolate.py?).\n",
    "# However, changing meas_only.rio._nodata doesn't help, and the inputs seem to be fine (plus they work for \"nearest\")\n",
    "coarse = 8\n",
    "\n",
    "# measurements only\n",
    "obs = -resds.ibcao_bathy.where(resds.z<40).combine_first(-resds.bed.where(resds.source>=10))\n",
    "meas_only = obs.where(resds.mask==0, other=0)\n",
    "\n",
    "# inferred points + measured points\n",
    "all_bathy = resds.filtered_draft_med.where(~np.isnan(resds.filtered_draft_med), \n",
    "                                           other=meas_only)\n",
    "\n",
    "# coarsen and interpolate\n",
    "# meas_only = meas_only.coarsen(x=coarse, boundary='pad').mean().coarsen(y=coarse, boundary=\"pad\").mean()\n",
    "meas_only = meas_only.coarsen(x=coarse, y=coarse, boundary='pad').mean()\n",
    "# meas_only.rio._nodata = np.nan\n",
    "# meas_only = meas_only.rio.interpolate_na(method=interp_meth)\n",
    "# all_bathy = all_bathy.coarsen(x=coarse, boundary='pad').mean().coarsen(y=coarse, boundary=\"pad\").mean()\n",
    "all_bathy = all_bathy.coarsen(x=coarse, y=coarse, boundary='pad').mean()\n",
    "# all_bathy = all_bathy.rio.interpolate_na(method=interp_meth)\n",
    "\n",
    "# non-shared plot info\n",
    "plot_title = 'Kane Basin Bathymetry'\n",
    "subplot_title = 'sonar measured'\n",
    "\n",
    "# output filename\n",
    "fig_name = \"bathymetry.png\"\n",
    "\n",
    "#define range of colors for plotting\n",
    "v=np.linspace(0,600,13)"
   ]
  },
  {
   "cell_type": "code",
   "execution_count": null,
   "metadata": {},
   "outputs": [],
   "source": [
    "# generate data for plots - uncertainty on bathymetry\n",
    "# NOTE: this used BedMachine, because IBCAO doesn't include uncertainties\n",
    "interp_meth = \"nearest\" # with rio.interpolate_na, you can only use nearest right now\n",
    "# linear and cubic need a fill_value specified, which is ignored with nearest but ends up being passed to\n",
    "# scipy as \"None\", thus breaking in scipy.interpolate.ndgriddata.griddata (perhaps in the def fill_value of interpolate.py?).\n",
    "# However, changing meas_only.rio._nodata doesn't help, and the inputs seem to be fine (plus they work for \"nearest\")\n",
    "coarse = 8\n",
    "\n",
    "# measurements only\n",
    "# obs = -resds.errbed.where(resds.z<40).combine_first(-resds.bed.where(resds.source>=10))\n",
    "obs = resds.errbed\n",
    "meas_only = obs.where(resds.mask==0, other=0)\n",
    "\n",
    "# inferred points + measured points\n",
    "all_bathy = resds.filtered_draft_err.where(~np.isnan(resds.filtered_draft_err), \n",
    "                                           other=meas_only)\n",
    "\n",
    "# coarsen and interpolate\n",
    "# meas_only = meas_only.coarsen(x=coarse, boundary='pad').mean().coarsen(y=coarse, boundary=\"pad\").mean()\n",
    "meas_only = meas_only.coarsen(x=coarse, y=coarse, boundary='pad').mean()\n",
    "# meas_only.rio._nodata = np.nan\n",
    "# meas_only = meas_only.rio.interpolate_na(method=interp_meth)\n",
    "# all_bathy = all_bathy.coarsen(x=coarse, boundary='pad').mean().coarsen(y=coarse, boundary=\"pad\").mean()\n",
    "all_bathy = all_bathy.coarsen(x=coarse, y=coarse, boundary='pad').mean()\n",
    "# all_bathy = all_bathy.rio.interpolate_na(method=interp_meth)\n",
    "\n",
    "# non-shared plot info\n",
    "plot_title = 'Kane Basin Bathymetry Uncertainty'\n",
    "subplot_title = 'BedMachine'\n",
    "\n",
    "# output filename\n",
    "fig_name = \"bathy_uncertainty.png\"\n",
    "\n",
    "#define range of colors for plotting\n",
    "v=np.linspace(0,300,11)\n",
    "\n",
    "\n",
    "# redefine some variables to make a test plot with the difference in the uncertainties\n",
    "new_all = meas_only - all_bathy\n",
    "meas_only = all_bathy\n",
    "all_bathy = new_all\n",
    "v = np.linspace(0,100, 11)"
   ]
  },
  {
   "cell_type": "code",
   "execution_count": null,
   "metadata": {},
   "outputs": [],
   "source": [
    "# Note: contouring excludes masked or nan regions (see matplotlib contourf_demo) - an issue for Kane's sparse observations\n",
    "# the pyinterp library (https://pangeo-pyinterp.readthedocs.io/en/stable/index.html) could provide some help here\n",
    "\n",
    "loc = ['Kane Basin']\n",
    "letters=['a','b']\n",
    "\n",
    "# plt.close(fig)\n",
    "\n",
    "fig, axes = plt.subplots(1,2, figsize=(12,5)) #8,3\n",
    "\n",
    "#define range of colors for plotting\n",
    "# v=np.linspace(0,600,13)  # defined above per-plot\n",
    "bathy_cmap = LinearSegmentedColormap.from_list('bathy_cmap', [(0.85,0.9,0.98),(0,0,.5)], 12)   #plt.cm.Blues\n",
    "\n",
    "# left plot (contours from measurements only)\n",
    "CS = xr.plot.contour(meas_only, x='x', y='y', ax=axes[0], linewidths=0.3, colors=[(0.95,0.95,0.95)], add_labels=False)\n",
    "CS = xr.plot.contourf(meas_only, x='x', y='y', ax=axes[0], levels=v, cmap=bathy_cmap, add_labels=False)\n",
    "\n",
    "# right plot: contours from inferred points and measured points\n",
    "# Note: currently this uses the iceberg-inferred water depth for the entire area of the iceberg, rather than a single point\n",
    "CS2 = xr.plot.contour(all_bathy, x='x', y='y', ax=axes[1], linewidths=0.3, colors=[(0.95,0.95,0.95)], add_labels=False)\n",
    "CS2 = xr.plot.contourf(all_bathy, x='x', y='y', ax=axes[1], levels=v, cmap=bathy_cmap, add_labels=False)\n",
    "\n",
    "# add land and measured bathymetry extent\n",
    "# plot formatting\n",
    "landcmap = LinearSegmentedColormap.from_list('land_cmap', [(0.65,0.45,0.35,1),(1,1,1,0)], 2)\n",
    "\n",
    "xmin, xmax = -500000, -350000\n",
    "ymin, ymax = -1120000, -970000\n",
    "\n",
    "for n in range(0,2):\n",
    "    land = resds.mask.where(resds.mask == 0).fillna(-888).plot.imshow(x='x', y='y', ax=axes[n], cmap=landcmap, zorder=30, add_labels=False)\n",
    "    land.colorbar.remove()\n",
    "#     xr.plot.contour(ds.bmach_source, x='x', y='y', ax=axes[n], levels=[0,10,100], linewidths=1, colors='black', add_labels=False)\n",
    "    \n",
    "    axes[n].axis('equal')\n",
    "    axes[n].set_ylim(ymin,ymax)\n",
    "    axes[n].set_xlim(xmin,xmax)\n",
    "    \n",
    "    plt.setp(axes[n].get_xticklabels(), rotation=30, horizontalalignment='right')\n",
    "\n",
    "# update plot labels, etc.\n",
    "CS.colorbar.remove()\n",
    "CS2.colorbar.remove()\n",
    "cbaxes = fig.add_axes([0.95, 0.1, 0.02, 0.75])\n",
    "plt.colorbar(CS2, cax=cbaxes)\n",
    "cbaxes.set_title('meters', fontsize=12)\n",
    "\n",
    "\n",
    "#turn off y axis labels\n",
    "axes[1].yaxis.set_ticklabels([])\n",
    "\n",
    "#label each plot\n",
    "axes[0].set_title(subplot_title, fontsize=11)\n",
    "axes[0].text(0.02, 0.95, letters[0], weight='bold', transform=axes[0].transAxes, zorder=40)\n",
    "axes[1].set_title(subplot_title + ' + iceberg-inferred', fontsize=11)\n",
    "axes[1].text(0.02, 0.95, letters[1], weight='bold', transform=axes[1].transAxes, zorder=40)\n",
    "\n",
    "fig.text(0.5, 0.03,'Easting (m)', ha='center', va='center', fontsize=12)\n",
    "fig.text(0.03, 0.5,'Northing (m)', ha='center', va='center', rotation='vertical', fontsize=12)\n",
    "\n",
    "plt.suptitle(plot_title, fontsize=14)\n",
    "fig.subplots_adjust(hspace=0.3, wspace = 0.14, top=0.87, left=0.1, right=0.90, bottom=0.17)\n"
   ]
  },
  {
   "cell_type": "code",
   "execution_count": null,
   "metadata": {},
   "outputs": [],
   "source": [
    "fig_save_path = outdir[:-8] + \"project_report(2021)/figures/\"\n",
    "fig.savefig(fig_save_path+fig_name, format='png', dpi=1200)"
   ]
  },
  {
   "cell_type": "code",
   "execution_count": null,
   "metadata": {},
   "outputs": [],
   "source": [
    "# compute some stats on the uncertainty improvements for the calcs at the end of the uncertainty maps data prep section\n",
    "red_uncert = all_bathy.values\n",
    "red_uncert = red_uncert[red_uncert>0]\n",
    "print(min(red_uncert))\n",
    "print(max(red_uncert))\n",
    "print(np.mean(red_uncert))\n",
    "print(np.median(red_uncert))"
   ]
  },
  {
   "cell_type": "code",
   "execution_count": null,
   "metadata": {},
   "outputs": [],
   "source": [
    "plt.hist(red_uncert)"
   ]
  },
  {
   "cell_type": "code",
   "execution_count": null,
   "metadata": {},
   "outputs": [],
   "source": []
  },
  {
   "cell_type": "markdown",
   "metadata": {},
   "source": [
    "## Visualize the range of elevation (area) values for a single iceberg (DEM)"
   ]
  },
  {
   "cell_type": "code",
   "execution_count": null,
   "metadata": {
    "scrolled": true
   },
   "outputs": [],
   "source": [
    "vals = gdf[gdf['date'].dt.year.astype(int)==2016].geometry.area"
   ]
  },
  {
   "cell_type": "code",
   "execution_count": null,
   "metadata": {
    "scrolled": true
   },
   "outputs": [],
   "source": [
    "axHist = plt.subplot()\n",
    "\n",
    "_ = axHist.hist(vals, np.arange(50000,300000,25000), color=\"silver\")\n",
    "\n",
    "axHist.set_xlabel('Elevation (m)')\n",
    "axHist.set_ylabel('Count')\n",
    "axHist.set_title('DEM Pixel Elevations')\n",
    "\n",
    "plt.show()"
   ]
  },
  {
   "cell_type": "code",
   "execution_count": null,
   "metadata": {},
   "outputs": [],
   "source": []
  }
 ],
 "metadata": {
  "kernelspec": {
   "display_name": "Python 3",
   "language": "python",
   "name": "python3"
  },
  "language_info": {
   "codemirror_mode": {
    "name": "ipython",
    "version": 3
   },
   "file_extension": ".py",
   "mimetype": "text/x-python",
   "name": "python",
   "nbconvert_exporter": "python",
   "pygments_lexer": "ipython3",
   "version": "3.7.6"
  }
 },
 "nbformat": 4,
 "nbformat_minor": 4
}
