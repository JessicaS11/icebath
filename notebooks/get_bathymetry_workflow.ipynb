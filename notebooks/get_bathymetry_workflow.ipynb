{
 "cells": [
  {
   "cell_type": "code",
   "execution_count": null,
   "metadata": {},
   "outputs": [],
   "source": [
    "import os\n",
    "import geopandas as gpd"
   ]
  },
  {
   "cell_type": "code",
   "execution_count": null,
   "metadata": {},
   "outputs": [],
   "source": [
    "%load_ext autoreload\n",
    "import icebath as icebath\n",
    "from icebath.core import bathy_workflow\n",
    "%autoreload 2"
   ]
  },
  {
   "cell_type": "code",
   "execution_count": null,
   "metadata": {},
   "outputs": [],
   "source": [
    "# import dask\n",
    "# from dask.distributed import Client, LocalCluster\n",
    "# client = Client(processes=False) #, n_workers=2, threads_per_worker=3, memory_limit='6GB')\n",
    "# client"
   ]
  },
  {
   "cell_type": "code",
   "execution_count": null,
   "metadata": {},
   "outputs": [],
   "source": [
    "# set up variables to run\n",
    "# inpardir = '/Users/jessica/projects/bathymetry_from_bergs/DEMs/2m/'\n",
    "# fjord = 'JI'\n",
    "# metastr='_mdf'\n",
    "\n",
    "inpardir = '/Users/jessica/projects/bathymetry_from_bergs/DEMs/Kane03/'\n",
    "fjord=\"KB\"\n",
    "metastr=\"_meta\"\n",
    "\n",
    "outdir = \"/Users/jessica/projects/bathymetry_from_bergs/results/\""
   ]
  },
  {
   "cell_type": "code",
   "execution_count": null,
   "metadata": {},
   "outputs": [],
   "source": [
    "dirlist = [d for d in os.listdir(inpardir) if not d.startswith('.')]"
   ]
  },
  {
   "cell_type": "code",
   "execution_count": null,
   "metadata": {},
   "outputs": [],
   "source": [
    "# run the bathymetry-from-iceberg-freeboard workflow on each dem (skipping larger dirs for now)\n",
    "for indir in dirlist:\n",
    "#     print(indir)\n",
    "    try:\n",
    "        if os.path.getsize(inpardir+indir) < 750:\n",
    "            bathy_workflow.run_workflow(inpardir+indir+'/', fjord, outdir, indir[5:14] + \"icebergs.gpkg\", metastr=metastr)\n",
    "        else:\n",
    "            continue\n",
    "    except NotADirectoryError:\n",
    "        if os.path.getsize(inpardir) <750:\n",
    "            bathy_workflow.run_workflow(inpardir+'/', fjord, outdir, \"JIicebergs.gpkg\", metastr=metastr)\n",
    "            break\n",
    "        else:\n",
    "            continue        "
   ]
  },
  {
   "cell_type": "code",
   "execution_count": null,
   "metadata": {},
   "outputs": [],
   "source": [
    "reslist = [f for f in os.listdir(outdir) if f.endswith('.gpkg')]"
   ]
  },
  {
   "cell_type": "code",
   "execution_count": null,
   "metadata": {},
   "outputs": [],
   "source": [
    "print(reslist)"
   ]
  },
  {
   "cell_type": "code",
   "execution_count": null,
   "metadata": {},
   "outputs": [],
   "source": [
    "# combine the geopackages into one\n",
    "print(\"not yet implemented\")"
   ]
  },
  {
   "cell_type": "code",
   "execution_count": null,
   "metadata": {},
   "outputs": [],
   "source": []
  },
  {
   "cell_type": "code",
   "execution_count": null,
   "metadata": {},
   "outputs": [],
   "source": [
    "# read the geopackage into a geodataframe\n",
    "gdf = gpd.read_file(outdir+reslist[0])\n",
    "gdf"
   ]
  },
  {
   "cell_type": "code",
   "execution_count": null,
   "metadata": {},
   "outputs": [],
   "source": [
    "# figure out if this is happening during saving or read in and fix...\n",
    "gdf['filtered_draft_med'] = gdf.filtered_draft_med.astype('float64')\n",
    "gdf['filtered_draft_max'] = gdf.filtered_draft_max.astype('float64')\n",
    "gdf['filtered_draft_mad'] = gdf.filtered_draft_mad.astype('float64')\n",
    "gdf['filtered_draft_err'] = gdf.filtered_draft_err.astype('float64')"
   ]
  },
  {
   "cell_type": "code",
   "execution_count": null,
   "metadata": {},
   "outputs": [],
   "source": [
    "gdf.dtypes"
   ]
  },
  {
   "cell_type": "code",
   "execution_count": null,
   "metadata": {},
   "outputs": [],
   "source": [
    "from icebath.utils import plot as ibplot"
   ]
  },
  {
   "cell_type": "code",
   "execution_count": null,
   "metadata": {},
   "outputs": [],
   "source": [
    "ibplot.meas_vs_infer_fig(gdf, save=False)"
   ]
  },
  {
   "cell_type": "code",
   "execution_count": null,
   "metadata": {},
   "outputs": [],
   "source": []
  }
 ],
 "metadata": {
  "kernelspec": {
   "display_name": "Python 3",
   "language": "python",
   "name": "python3"
  },
  "language_info": {
   "codemirror_mode": {
    "name": "ipython",
    "version": 3
   },
   "file_extension": ".py",
   "mimetype": "text/x-python",
   "name": "python",
   "nbconvert_exporter": "python",
   "pygments_lexer": "ipython3",
   "version": "3.8.6"
  }
 },
 "nbformat": 4,
 "nbformat_minor": 4
}
