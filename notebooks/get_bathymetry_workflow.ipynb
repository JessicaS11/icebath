{
 "cells": [
  {
   "cell_type": "code",
   "execution_count": 4,
   "metadata": {},
   "outputs": [],
   "source": [
    "import os"
   ]
  },
  {
   "cell_type": "code",
   "execution_count": 33,
   "metadata": {},
   "outputs": [
    {
     "name": "stdout",
     "output_type": "stream",
     "text": [
      "The autoreload extension is already loaded. To reload it, use:\n",
      "  %reload_ext autoreload\n"
     ]
    }
   ],
   "source": [
    "%load_ext autoreload\n",
    "import icebath as icebath\n",
    "from icebath.core import bathy_workflow\n",
    "%autoreload 2"
   ]
  },
  {
   "cell_type": "code",
   "execution_count": 14,
   "metadata": {},
   "outputs": [
    {
     "name": "stderr",
     "output_type": "stream",
     "text": [
      "/opt/anaconda3/envs/icebath/lib/python3.8/site-packages/distributed/node.py:151: UserWarning: Port 8787 is already in use.\n",
      "Perhaps you already have a cluster running?\n",
      "Hosting the HTTP server on port 50920 instead\n",
      "  warnings.warn(\n"
     ]
    },
    {
     "data": {
      "text/html": [
       "<table style=\"border: 2px solid white;\">\n",
       "<tr>\n",
       "<td style=\"vertical-align: top; border: 0px solid white\">\n",
       "<h3 style=\"text-align: left;\">Client</h3>\n",
       "<ul style=\"text-align: left; list-style: none; margin: 0; padding: 0;\">\n",
       "  <li><b>Scheduler: </b>inproc://192.168.1.9/1110/8</li>\n",
       "  <li><b>Dashboard: </b><a href='http://192.168.1.9:50920/status' target='_blank'>http://192.168.1.9:50920/status</a></li>\n",
       "</ul>\n",
       "</td>\n",
       "<td style=\"vertical-align: top; border: 0px solid white\">\n",
       "<h3 style=\"text-align: left;\">Cluster</h3>\n",
       "<ul style=\"text-align: left; list-style:none; margin: 0; padding: 0;\">\n",
       "  <li><b>Workers: </b>1</li>\n",
       "  <li><b>Cores: </b>12</li>\n",
       "  <li><b>Memory: </b>17.18 GB</li>\n",
       "</ul>\n",
       "</td>\n",
       "</tr>\n",
       "</table>"
      ],
      "text/plain": [
       "<Client: 'inproc://192.168.1.9/1110/8' processes=1 threads=12, memory=17.18 GB>"
      ]
     },
     "execution_count": 14,
     "metadata": {},
     "output_type": "execute_result"
    }
   ],
   "source": [
    "import dask\n",
    "from dask.distributed import Client, LocalCluster\n",
    "client = Client(processes=False) #n_workers=2, threads_per_work=3, memory_limit='1GB')\n",
    "client"
   ]
  },
  {
   "cell_type": "code",
   "execution_count": 24,
   "metadata": {},
   "outputs": [],
   "source": [
    "# set up variables to run\n",
    "# inpardir = '/Users/jessica/projects/bathymetry_from_bergs/DEMs/2m/'\n",
    "# fjord = 'JI'\n",
    "# metastr='_mdf'\n",
    "\n",
    "inpardir = '/Users/jessica/projects/bathymetry_from_bergs/DEMs/Kane03/'\n",
    "fjord=\"KB\"\n",
    "metastr=\"_meta\"\n",
    "\n",
    "outdir = \"/Users/jessica/projects/bathymetry_from_bergs/prelim_results/\""
   ]
  },
  {
   "cell_type": "code",
   "execution_count": 25,
   "metadata": {},
   "outputs": [],
   "source": [
    "dirlist = [d for d in os.listdir(inpardir) if not d.startswith('.')]"
   ]
  },
  {
   "cell_type": "code",
   "execution_count": null,
   "metadata": {},
   "outputs": [
    {
     "name": "stdout",
     "output_type": "stream",
     "text": [
      "WV03_20180511_104001003DA85200_104001003DAB9B00_2m_lsf_seg1_dem.tif\n",
      "Please note the transform is computed assuming a coordinate reference system where x(min) is west and y(min) is south\n",
      "Note that the new file is reprojected to have the same CRS as the dataset to which it is being added.        However, if the two CRSs are compatible, the spatial properties of the new file may be added to or overwrite the ones of the existing dataset\n",
      "Note that tide model and epsg are hard coded in!\n",
      "They can also be provided as keywords if the wrapper function is updated to handle them\n",
      "The current fjord does not have a minimum berg size entry - using a default value!\n",
      "Got labeled raster of potential icebergs for an image\n",
      "about to get the list of possible bergs\n",
      "11\n",
      "median iceberg freeboard less than 15 m\n",
      "border too complex. Removing...\n",
      "median iceberg freeboard less than 15 m\n",
      "tried to trim down a multipolygon\n",
      "median iceberg freeboard less than 15 m\n",
      "tried to trim down a multipolygon\n",
      "border too complex. Removing...\n",
      "tried to trim down a multipolygon\n",
      "median iceberg freeboard less than 15 m\n",
      "border too complex. Removing...\n",
      "median iceberg freeboard less than 15 m\n",
      "median iceberg freeboard less than 15 m\n",
      "median iceberg freeboard less than 15 m\n",
      "border too complex. Removing...\n",
      "0\n",
      "Generated geodataframe of icebergs for this image\n",
      "WV03_20170619_104001002F8C5D00_104001002F2FE200_2m_lsf_seg1_dem.tif\n"
     ]
    },
    {
     "name": "stderr",
     "output_type": "stream",
     "text": [
      "/Users/jessica/projects/bathymetry_from_bergs/github/icebath/icebath/core/build_xrds.py:20: UserWarning: This function currently assumes a constant grid and EPSG for all input files\n",
      "  warnings.warn(\"This function currently assumes a constant grid and EPSG for all input files\")\n"
     ]
    },
    {
     "name": "stdout",
     "output_type": "stream",
     "text": [
      "WV03_20170619_104001002F8C5D00_104001002F2FE200_2m_lsf_seg2_dem.tif\n",
      "Please note the transform is computed assuming a coordinate reference system where x(min) is west and y(min) is south\n",
      "Note that the new file is reprojected to have the same CRS as the dataset to which it is being added.        However, if the two CRSs are compatible, the spatial properties of the new file may be added to or overwrite the ones of the existing dataset\n",
      "Note that tide model and epsg are hard coded in!\n",
      "They can also be provided as keywords if the wrapper function is updated to handle them\n",
      "The current fjord does not have a minimum berg size entry - using a default value!\n",
      "Got labeled raster of potential icebergs for an image\n",
      "about to get the list of possible bergs\n"
     ]
    }
   ],
   "source": [
    "for indir in dirlist:\n",
    "#     print(indir)\n",
    "    bathy_workflow.run_workflow(inpardir+indir+'/', fjord, outdir, metastr=metastr)"
   ]
  },
  {
   "cell_type": "code",
   "execution_count": null,
   "metadata": {},
   "outputs": [],
   "source": []
  },
  {
   "cell_type": "code",
   "execution_count": null,
   "metadata": {},
   "outputs": [],
   "source": []
  },
  {
   "cell_type": "code",
   "execution_count": null,
   "metadata": {},
   "outputs": [],
   "source": []
  }
 ],
 "metadata": {
  "kernelspec": {
   "display_name": "Python 3",
   "language": "python",
   "name": "python3"
  },
  "language_info": {
   "codemirror_mode": {
    "name": "ipython",
    "version": 3
   },
   "file_extension": ".py",
   "mimetype": "text/x-python",
   "name": "python",
   "nbconvert_exporter": "python",
   "pygments_lexer": "ipython3",
   "version": "3.8.6"
  }
 },
 "nbformat": 4,
 "nbformat_minor": 4
}
