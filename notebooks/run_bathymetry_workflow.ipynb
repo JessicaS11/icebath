{
 "cells": [
  {
   "cell_type": "code",
   "execution_count": 1,
   "metadata": {},
   "outputs": [],
   "source": [
    "import os\n",
    "import geopandas as gpd\n",
    "import pandas as pd\n",
    "import gc"
   ]
  },
  {
   "cell_type": "code",
   "execution_count": 2,
   "metadata": {},
   "outputs": [],
   "source": [
    "%load_ext autoreload\n",
    "import icebath as icebath\n",
    "from icebath.core import bathy_workflow\n",
    "%autoreload 2"
   ]
  },
  {
   "cell_type": "code",
   "execution_count": 3,
   "metadata": {},
   "outputs": [
    {
     "data": {
      "text/html": [
       "<table style=\"border: 2px solid white;\">\n",
       "<tr>\n",
       "<td style=\"vertical-align: top; border: 0px solid white\">\n",
       "<h3 style=\"text-align: left;\">Client</h3>\n",
       "<ul style=\"text-align: left; list-style: none; margin: 0; padding: 0;\">\n",
       "  <li><b>Scheduler: </b>tcp://127.0.0.1:51085</li>\n",
       "  <li><b>Dashboard: </b><a href='http://127.0.0.1:8787/status' target='_blank'>http://127.0.0.1:8787/status</a></li>\n",
       "</ul>\n",
       "</td>\n",
       "<td style=\"vertical-align: top; border: 0px solid white\">\n",
       "<h3 style=\"text-align: left;\">Cluster</h3>\n",
       "<ul style=\"text-align: left; list-style:none; margin: 0; padding: 0;\">\n",
       "  <li><b>Workers: </b>1</li>\n",
       "  <li><b>Cores: </b>1</li>\n",
       "  <li><b>Memory: </b>14.00 GB</li>\n",
       "</ul>\n",
       "</td>\n",
       "</tr>\n",
       "</table>"
      ],
      "text/plain": [
       "<Client: 'tcp://127.0.0.1:51085' processes=1 threads=1, memory=14.00 GB>"
      ]
     },
     "execution_count": 3,
     "metadata": {},
     "output_type": "execute_result"
    }
   ],
   "source": [
    "import dask\n",
    "from dask.distributed import Client, LocalCluster\n",
    "client = Client(processes=True, n_workers=1, threads_per_worker=1, memory_limit='14GB', dashboard_address=':8787')\n",
    "client"
   ]
  },
  {
   "cell_type": "code",
   "execution_count": 4,
   "metadata": {},
   "outputs": [],
   "source": [
    "# set up variables to run\n",
    "# inpardir = '/Users/jessica/projects/bathymetry_from_bergs/DEMs/2m/'\n",
    "# fjord = 'JI'\n",
    "# metastr='_mdf'\n",
    "\n",
    "# inpardir = '/Volumes/Keeper/bathy_from_bergs_Kane_imagery_2021/Kane-no_usable_bergs/'\n",
    "inpardir = '/Users/jessica/projects/bathymetry_from_bergs/DEMs/KaneW2W2/'\n",
    "fjord=\"KB\"\n",
    "metastr=\"_meta\"\n",
    "\n",
    "outdir = \"/Users/jessica/projects/bathymetry_from_bergs/results/\""
   ]
  },
  {
   "cell_type": "code",
   "execution_count": 5,
   "metadata": {},
   "outputs": [],
   "source": [
    "dirlist = [d for d in os.listdir(inpardir) if not d.startswith('.')]"
   ]
  },
  {
   "cell_type": "code",
   "execution_count": 6,
   "metadata": {
    "scrolled": true
   },
   "outputs": [
    {
     "name": "stdout",
     "output_type": "stream",
     "text": [
      "['W2W2_20130510_10300100218D7000_1030010022056900_2m_lsf_v030208']\n"
     ]
    }
   ],
   "source": [
    "print(dirlist)"
   ]
  },
  {
   "cell_type": "code",
   "execution_count": 7,
   "metadata": {},
   "outputs": [],
   "source": [
    "def recursive_dir_size(path):\n",
    "    size = 0\n",
    "\n",
    "    for x in os.listdir(path):\n",
    "        if not os.path.isdir(os.path.join(path,x)):\n",
    "            size += os.stat(os.path.join(path,x)).st_size\n",
    "        else:\n",
    "            size += recursive_dir_size(os.path.join(path,x))\n",
    "\n",
    "    # convert to GB\n",
    "    size = size / (1024.0**3)\n",
    "    \n",
    "    return size"
   ]
  },
  {
   "cell_type": "code",
   "execution_count": null,
   "metadata": {
    "scrolled": false
   },
   "outputs": [
    {
     "name": "stderr",
     "output_type": "stream",
     "text": [
      "/Users/jessica/projects/bathymetry_from_bergs/github/icebath/icebath/core/build_xrds.py:22: UserWarning: This function currently assumes a constant grid and EPSG for all input files\n",
      "  warnings.warn(\"This function currently assumes a constant grid and EPSG for all input files\")\n"
     ]
    },
    {
     "name": "stdout",
     "output_type": "stream",
     "text": [
      "W2W2_20130510_10300100218D7000_1030010022056900_2m_lsf_seg1_dem.tif\n",
      "W2W2_20130510_10300100218D7000_1030010022056900_2m_lsf_seg3_dem.tif\n",
      "W2W2_20130510_10300100218D7000_1030010022056900_2m_lsf_seg2_dem.tif\n",
      "Please note the transform is computed assuming a coordinate reference system    where x(min) is west and y(min) is south\n",
      "Note that the new file is reprojected to have the same CRS as the dataset to which it is being added.        However, if the two CRSs are compatible, the spatial properties of the new file may be added to or overwrite the ones of the existing dataset\n",
      "Note that tide model and epsg are hard coded in!\n",
      "They can also be provided as keywords if the wrapper function is updated to handle them\n",
      "The current fjord does not have a minimum berg size entry - using a default value!\n",
      "Got labeled raster of potential icebergs for an image\n",
      "about to get the list of possible bergs\n",
      "Please note the transform computation is very application specific (negative y coordinates) and may need generalizing\n",
      "this transform computation is particularly sensitive to axis order (y,x) because it is accessed by index number\n",
      "11\n",
      "median iceberg freeboard less than 5 m\n",
      "8\n",
      "Generated geodataframe of icebergs for this image\n",
      "The current fjord does not have a minimum berg size entry - using a default value!\n",
      "Got labeled raster of potential icebergs for an image\n",
      "about to get the list of possible bergs\n",
      "Please note the transform computation is very application specific (negative y coordinates) and may need generalizing\n",
      "this transform computation is particularly sensitive to axis order (y,x) because it is accessed by index number\n",
      "8\n",
      "median iceberg freeboard less than 5 m\n",
      "median iceberg freeboard less than 5 m\n",
      "6\n",
      "Generated geodataframe of icebergs for this image\n",
      "The current fjord does not have a minimum berg size entry - using a default value!\n",
      "Got labeled raster of potential icebergs for an image\n",
      "about to get the list of possible bergs\n",
      "Please note the transform computation is very application specific (negative y coordinates) and may need generalizing\n",
      "this transform computation is particularly sensitive to axis order (y,x) because it is accessed by index number\n",
      "74\n",
      "median iceberg freeboard less than 5 m\n",
      "median iceberg freeboard less than 5 m\n",
      "median iceberg freeboard less than 5 m\n",
      "50\n",
      "Generated geodataframe of icebergs for this image\n",
      "Note that the new file is reprojected to have the same CRS as the dataset to which it is being added.        However, if the two CRSs are compatible, the spatial properties of the new file may be added to or overwrite the ones of the existing dataset\n"
     ]
    },
    {
     "name": "stderr",
     "output_type": "stream",
     "text": [
      "distributed.nanny - WARNING - Restarting worker\n"
     ]
    }
   ],
   "source": [
    "# run the bathymetry-from-iceberg-freeboard workflow on each dem (skipping larger dirs for now)\n",
    "for indir in dirlist:\n",
    "#     print(indir)\n",
    "    try:\n",
    "#         print(recursive_dir_size(inpardir+indir))\n",
    "        if recursive_dir_size(inpardir+indir) > 1.0:\n",
    "            bathy_workflow.run_workflow(inpardir+indir+'/', fjord, outdir, indir[0:14] + \"icebergs.gpkg\", metastr=metastr, bitmask=True)\n",
    "        else:\n",
    "            continue\n",
    "        gc.collect()\n",
    "    except NotADirectoryError:\n",
    "        if recursive_dir_size(inpardir+indir) < 0.75:\n",
    "            bathy_workflow.run_workflow(inpardir+'/', fjord, outdir, \"JIicebergs.gpkg\", metastr=metastr)\n",
    "            break\n",
    "        else:\n",
    "            continue        "
   ]
  },
  {
   "cell_type": "code",
   "execution_count": null,
   "metadata": {},
   "outputs": [],
   "source": [
    "reslist = [f for f in os.listdir(outdir) if f.endswith('.gpkg')]"
   ]
  },
  {
   "cell_type": "code",
   "execution_count": null,
   "metadata": {},
   "outputs": [],
   "source": [
    "print(reslist)"
   ]
  },
  {
   "cell_type": "code",
   "execution_count": null,
   "metadata": {},
   "outputs": [],
   "source": [
    "# combine the geopackages into one geodataframe\n",
    "gdf = gpd.GeoDataFrame(pd.concat([gpd.read_file(outdir+res) for res in reslist],\n",
    "                                 ignore_index=True), crs=gpd.read_file(outdir+reslist[0]).crs)"
   ]
  },
  {
   "cell_type": "code",
   "execution_count": null,
   "metadata": {
    "scrolled": true
   },
   "outputs": [],
   "source": [
    "gdf"
   ]
  },
  {
   "cell_type": "code",
   "execution_count": null,
   "metadata": {},
   "outputs": [],
   "source": [
    "gdf.filtered_draft_mad.values"
   ]
  },
  {
   "cell_type": "code",
   "execution_count": null,
   "metadata": {},
   "outputs": [],
   "source": [
    "gdf = gdf[gdf.filtered_draft_mad<50]\n",
    "ibplot.meas_vs_infer_fig(gdf, save=False)"
   ]
  },
  {
   "cell_type": "code",
   "execution_count": null,
   "metadata": {},
   "outputs": [],
   "source": [
    "outfn = fjord + \"_combined_results.gpkg\"\n",
    "gdf.to_file(outdir+outfn, driver=\"GPKG\")"
   ]
  },
  {
   "cell_type": "code",
   "execution_count": null,
   "metadata": {},
   "outputs": [],
   "source": [
    "from icebath.utils import plot as ibplot"
   ]
  },
  {
   "cell_type": "code",
   "execution_count": null,
   "metadata": {},
   "outputs": [],
   "source": [
    "ibplot.meas_vs_infer_fig(gdf, save=False)"
   ]
  },
  {
   "cell_type": "code",
   "execution_count": null,
   "metadata": {},
   "outputs": [],
   "source": []
  }
 ],
 "metadata": {
  "kernelspec": {
   "display_name": "Python 3",
   "language": "python",
   "name": "python3"
  },
  "language_info": {
   "codemirror_mode": {
    "name": "ipython",
    "version": 3
   },
   "file_extension": ".py",
   "mimetype": "text/x-python",
   "name": "python",
   "nbconvert_exporter": "python",
   "pygments_lexer": "ipython3",
   "version": "3.8.6"
  }
 },
 "nbformat": 4,
 "nbformat_minor": 4
}
