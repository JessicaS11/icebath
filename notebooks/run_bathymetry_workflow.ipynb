{
 "cells": [
  {
   "cell_type": "code",
   "execution_count": null,
   "metadata": {},
   "outputs": [],
   "source": [
    "import os\n",
    "import geopandas as gpd\n",
    "import pandas as pd\n",
    "import gc\n",
    "import warnings"
   ]
  },
  {
   "cell_type": "code",
   "execution_count": null,
   "metadata": {},
   "outputs": [],
   "source": [
    "# suppress nanmean of empty slice warning\n",
    "warnings.filterwarnings(\"ignore\", message=\"Mean of empty slice\")"
   ]
  },
  {
   "cell_type": "code",
   "execution_count": null,
   "metadata": {},
   "outputs": [],
   "source": [
    "%load_ext autoreload\n",
    "import icebath as icebath\n",
    "from icebath.core import bathy_workflow\n",
    "%autoreload 2"
   ]
  },
  {
   "cell_type": "code",
   "execution_count": null,
   "metadata": {},
   "outputs": [],
   "source": [
    "import dask\n",
    "from dask.distributed import Client, LocalCluster\n",
    "client = Client(processes=True, n_workers=1, threads_per_worker=1, memory_limit='14GB', dashboard_address=':8787')\n",
    "client"
   ]
  },
  {
   "cell_type": "code",
   "execution_count": null,
   "metadata": {},
   "outputs": [],
   "source": [
    "# set up variables to run\n",
    "# inpardir = '/Users/jessica/projects/bathymetry_from_bergs/DEMs/2m/'\n",
    "# fjord = 'JI'\n",
    "# metastr='_mdf'\n",
    "\n",
    "inpardir = '/Volumes/Keeper/bathy_from_bergs_Kane_imagery_2021/KaneWV02-not-run/'\n",
    "# inpardir = '/Users/jessica/projects/bathymetry_from_bergs/DEMs/KaneWV03/'\n",
    "fjord=\"KB\"\n",
    "metastr=\"_meta\"\n",
    "\n",
    "outdir = \"/Users/jessica/projects/bathymetry_from_bergs/results/\""
   ]
  },
  {
   "cell_type": "code",
   "execution_count": null,
   "metadata": {},
   "outputs": [],
   "source": [
    "dirlist = [d for d in os.listdir(inpardir) if not d.startswith('.')]"
   ]
  },
  {
   "cell_type": "code",
   "execution_count": null,
   "metadata": {
    "scrolled": false
   },
   "outputs": [],
   "source": [
    "print(dirlist)"
   ]
  },
  {
   "cell_type": "code",
   "execution_count": null,
   "metadata": {},
   "outputs": [],
   "source": [
    "def recursive_dir_size(path):\n",
    "    size = 0\n",
    "\n",
    "    for x in os.listdir(path):\n",
    "        if not os.path.isdir(os.path.join(path,x)):\n",
    "            size += os.stat(os.path.join(path,x)).st_size\n",
    "        else:\n",
    "            size += recursive_dir_size(os.path.join(path,x))\n",
    "\n",
    "    # convert to GB\n",
    "    size = size / (1024.0**3)\n",
    "    \n",
    "    return size"
   ]
  },
  {
   "cell_type": "code",
   "execution_count": null,
   "metadata": {
    "scrolled": false
   },
   "outputs": [],
   "source": [
    "# run the bathymetry-from-iceberg-freeboard workflow on each dem (skipping larger dirs for now)\n",
    "for indir in dirlist[:]:\n",
    "#     print(indir)\n",
    "    try:\n",
    "#         print(recursive_dir_size(inpardir+indir))\n",
    "        if recursive_dir_size(inpardir+indir) > 0.0 and recursive_dir_size(inpardir+indir) < 4.0:\n",
    "            bathy_workflow.run_workflow(inpardir+indir+'/', fjord, outdir, indir[0:14] + \"icebergs.gpkg\", metastr=metastr, bitmask=True)\n",
    "        else:\n",
    "            continue\n",
    "        gc.collect()\n",
    "    except NotADirectoryError:\n",
    "#         if recursive_dir_size(inpardir+indir) < 0.75:\n",
    "        bathy_workflow.run_workflow(inpardir+'/', fjord, outdir, \"JIicebergs.gpkg\", metastr=metastr)\n",
    "        break\n",
    "#         else:\n",
    "#             continue        "
   ]
  },
  {
   "cell_type": "code",
   "execution_count": null,
   "metadata": {},
   "outputs": [],
   "source": [
    "reslist = [f for f in os.listdir(outdir) if f.endswith('.gpkg')]"
   ]
  },
  {
   "cell_type": "code",
   "execution_count": null,
   "metadata": {},
   "outputs": [],
   "source": [
    "print(reslist)"
   ]
  },
  {
   "cell_type": "code",
   "execution_count": null,
   "metadata": {},
   "outputs": [],
   "source": [
    "# combine the geopackages into one geodataframe\n",
    "gdf = gpd.GeoDataFrame(pd.concat([gpd.read_file(outdir+res) for res in reslist],\n",
    "                                 ignore_index=True), crs=gpd.read_file(outdir+reslist[0]).crs)"
   ]
  },
  {
   "cell_type": "code",
   "execution_count": null,
   "metadata": {
    "scrolled": true
   },
   "outputs": [],
   "source": [
    "# remove rows with negative draft values\n",
    "gdf = gdf[gdf.filtered_draft_med > 0]"
   ]
  },
  {
   "cell_type": "code",
   "execution_count": null,
   "metadata": {},
   "outputs": [],
   "source": [
    "len(gdf)"
   ]
  },
  {
   "cell_type": "code",
   "execution_count": null,
   "metadata": {},
   "outputs": [],
   "source": [
    "gdf"
   ]
  },
  {
   "cell_type": "code",
   "execution_count": null,
   "metadata": {},
   "outputs": [],
   "source": [
    "gdf.bmach_errbed.min()"
   ]
  },
  {
   "cell_type": "code",
   "execution_count": null,
   "metadata": {},
   "outputs": [],
   "source": [
    "gdf.filtered_draft_mad.values"
   ]
  },
  {
   "cell_type": "code",
   "execution_count": null,
   "metadata": {},
   "outputs": [],
   "source": [
    "outfn = fjord + \"_combined_results.gpkg\"\n",
    "gdf.to_file(outdir+outfn, driver=\"GPKG\")"
   ]
  },
  {
   "cell_type": "code",
   "execution_count": null,
   "metadata": {},
   "outputs": [],
   "source": [
    "from icebath.utils import plot as ibplot"
   ]
  },
  {
   "cell_type": "code",
   "execution_count": null,
   "metadata": {},
   "outputs": [],
   "source": [
    "ibplot.meas_vs_infer_fig(gdf, save=False)"
   ]
  },
  {
   "cell_type": "code",
   "execution_count": null,
   "metadata": {},
   "outputs": [],
   "source": []
  }
 ],
 "metadata": {
  "kernelspec": {
   "display_name": "Python 3",
   "language": "python",
   "name": "python3"
  },
  "language_info": {
   "codemirror_mode": {
    "name": "ipython",
    "version": 3
   },
   "file_extension": ".py",
   "mimetype": "text/x-python",
   "name": "python",
   "nbconvert_exporter": "python",
   "pygments_lexer": "ipython3",
   "version": "3.8.6"
  }
 },
 "nbformat": 4,
 "nbformat_minor": 4
}
