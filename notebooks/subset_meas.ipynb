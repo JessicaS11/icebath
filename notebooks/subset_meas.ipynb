{
 "cells": [
  {
   "cell_type": "code",
   "execution_count": null,
   "metadata": {},
   "outputs": [],
   "source": [
    "# import xarray as xr\n",
    "import rioxarray as rioxr\n",
    "import rasterio\n",
    "\n",
    "%load_ext autoreload\n",
    "import icebath as icebath\n",
    "from icebath.core import fjord_props as fjord_props\n",
    "%autoreload 2"
   ]
  },
  {
   "cell_type": "markdown",
   "metadata": {},
   "source": [
    "### Simple notebook to reproject and create regional BedMachine and IBCAO netcdf files\n",
    "Note: You must change the fjord (next cell) and make sure that your fjord has bounding coordinates within `fjord_props.py`"
   ]
  },
  {
   "cell_type": "code",
   "execution_count": null,
   "metadata": {},
   "outputs": [],
   "source": [
    "fjord=\"KB\""
   ]
  },
  {
   "cell_type": "code",
   "execution_count": null,
   "metadata": {},
   "outputs": [],
   "source": [
    "# Pangeo\n",
    "# orig='/home/jovyan/icebath/notebooks/supporting_docs/160281892/BedMachineGreenland-2017-09-20.nc'\n",
    "# orig='/home/jovyan/icebath/notebooks/supporting_docs/IBCAO_v4_200m_ice.nc'\n",
    "\n",
    "# Local\n",
    "# You could also just bring in the reprojected versions and subset those...\n",
    "# orig = '/Users/jessica/mapping/datasets/160281892/BedMachineGreenland-2017-09-20.nc'\n",
    "orig = '/Users/jessica/mapping/datasets/IBCAO_v4_200m_ice.nc'\n",
    "# orig = '/Users/jessica/mapping/datasets/IBCAO_v4_200m_TID.nc'"
   ]
  },
  {
   "cell_type": "code",
   "execution_count": null,
   "metadata": {},
   "outputs": [],
   "source": [
    "reg=orig[:-3]+\"_3413_\"+fjord+'.nc'\n",
    "print(reg)"
   ]
  },
  {
   "cell_type": "code",
   "execution_count": null,
   "metadata": {},
   "outputs": [],
   "source": [
    "ds = rioxr.open_rasterio(orig)"
   ]
  },
  {
   "cell_type": "code",
   "execution_count": null,
   "metadata": {},
   "outputs": [],
   "source": [
    "try:\n",
    "    print(ds.spatial_ref)\n",
    "except AttributeError:\n",
    "    print(ds.mapping)"
   ]
  },
  {
   "cell_type": "code",
   "execution_count": null,
   "metadata": {},
   "outputs": [],
   "source": [
    "# set IBCAO Polar Stereo projection EPSG:3996\n",
    "ds.rio.set_crs(input_crs='epsg:3996', inplace=True)"
   ]
  },
  {
   "cell_type": "code",
   "execution_count": null,
   "metadata": {},
   "outputs": [],
   "source": [
    "ds_reproj = ds.rio.reproject(dst_crs='epsg:3413')"
   ]
  },
  {
   "cell_type": "code",
   "execution_count": null,
   "metadata": {
    "scrolled": true
   },
   "outputs": [],
   "source": [
    "ds_reproj"
   ]
  },
  {
   "cell_type": "code",
   "execution_count": null,
   "metadata": {},
   "outputs": [],
   "source": [
    "bbox = fjord_props.get_fjord_bounds(fjord)\n",
    "print(bbox)"
   ]
  },
  {
   "cell_type": "code",
   "execution_count": null,
   "metadata": {},
   "outputs": [],
   "source": [
    "trimmed_ds = ds_reproj.sel(x=slice(bbox[0], bbox[2]), y=slice(bbox[3], bbox[1]))\n",
    "trimmed_ds"
   ]
  },
  {
   "cell_type": "code",
   "execution_count": null,
   "metadata": {},
   "outputs": [],
   "source": [
    "trimmed_ds.to_netcdf(reg)"
   ]
  },
  {
   "cell_type": "code",
   "execution_count": null,
   "metadata": {},
   "outputs": [],
   "source": []
  }
 ],
 "metadata": {
  "kernelspec": {
   "display_name": "Python 3",
   "language": "python",
   "name": "python3"
  },
  "language_info": {
   "codemirror_mode": {
    "name": "ipython",
    "version": 3
   },
   "file_extension": ".py",
   "mimetype": "text/x-python",
   "name": "python",
   "nbconvert_exporter": "python",
   "pygments_lexer": "ipython3",
   "version": "3.8.6"
  }
 },
 "nbformat": 4,
 "nbformat_minor": 5
}
