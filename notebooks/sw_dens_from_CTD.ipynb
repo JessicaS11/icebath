{
 "cells": [
  {
   "cell_type": "code",
   "execution_count": 3,
   "metadata": {},
   "outputs": [],
   "source": [
    "import xarray as xr\n",
    "import rioxarray\n",
    "import os"
   ]
  },
  {
   "cell_type": "code",
   "execution_count": 24,
   "metadata": {},
   "outputs": [
    {
     "name": "stdout",
     "output_type": "stream",
     "text": [
      "['OMG_Ocean_CTD_L2_20190819144254.nc', 'OMG_Ocean_CTD_L2_20190819003805.nc', 'OMG_Ocean_CTD_L2_20190820124814.nc', 'OMG_Ocean_CTD_L2_20190820005041.nc', 'OMG_Ocean_CTD_L2_20190821084853.nc', 'OMG_Ocean_CTD_L2_20190819212059.nc']\n"
     ]
    }
   ],
   "source": [
    "inpardir = '/Users/jessica/projects/bathymetry_from_bergs/OMG-CTD_data_Kane/'\n",
    "dirlist = [d for d in os.listdir(inpardir) if not d.startswith('.') and d.endswith('.nc')]\n",
    "print(dirlist)"
   ]
  },
  {
   "cell_type": "code",
   "execution_count": 122,
   "metadata": {},
   "outputs": [
    {
     "name": "stdout",
     "output_type": "stream",
     "text": [
      "[187.97999572753906, 234.9499969482422, 571.9500122070312, 140.9600067138672, 380.9599914550781, 350.07000732421875]\n",
      "[1027.89794921875, 1027.885009765625, 1027.845947265625, 1027.8299560546875, 1027.8470458984375]\n"
     ]
    }
   ],
   "source": [
    "max_depths = []\n",
    "dens = []\n",
    "for file in dirlist:\n",
    "    with xr.open_dataset(inpardir+file) as src:\n",
    "        maxd = src.depth.max().item()\n",
    "        max_depths.append(maxd)\n",
    "        \n",
    "        if maxd > 150:\n",
    "            idx = (np.abs(src.depth - 150)).argmin()\n",
    "            den = src.density.isel({'obs': idx}).item()\n",
    "            dens.append(den)\n",
    "        \n",
    "print(max_depths)\n",
    "print(dens)"
   ]
  },
  {
   "cell_type": "code",
   "execution_count": 123,
   "metadata": {},
   "outputs": [
    {
     "name": "stdout",
     "output_type": "stream",
     "text": [
      "1027.8299560546875\n",
      "1027.861181640625\n",
      "0.02579370833426591\n",
      "1027.89794921875\n"
     ]
    }
   ],
   "source": [
    "print(np.min(dens))\n",
    "print(np.mean(dens))\n",
    "print(np.std(dens))\n",
    "print(np.max(dens))"
   ]
  },
  {
   "cell_type": "code",
   "execution_count": null,
   "metadata": {},
   "outputs": [],
   "source": []
  },
  {
   "cell_type": "code",
   "execution_count": null,
   "metadata": {},
   "outputs": [],
   "source": []
  }
 ],
 "metadata": {
  "kernelspec": {
   "display_name": "Python 3",
   "language": "python",
   "name": "python3"
  },
  "language_info": {
   "codemirror_mode": {
    "name": "ipython",
    "version": 3
   },
   "file_extension": ".py",
   "mimetype": "text/x-python",
   "name": "python",
   "nbconvert_exporter": "python",
   "pygments_lexer": "ipython3",
   "version": "3.8.6"
  }
 },
 "nbformat": 4,
 "nbformat_minor": 4
}
