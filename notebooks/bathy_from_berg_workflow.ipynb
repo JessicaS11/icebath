{
 "cells": [
  {
   "cell_type": "markdown",
   "metadata": {},
   "source": [
    "# Development Notebook for extracting icebergs from DEMs\n",
    "\n",
    "by Jessica Scheick\n",
    "\n",
    "Workflow based on previous methods and code developed by JScheick for Scheick et al 2019 *Remote Sensing*."
   ]
  },
  {
   "cell_type": "code",
   "execution_count": null,
   "metadata": {},
   "outputs": [],
   "source": [
    "import numpy as np\n",
    "import pandas as pd\n",
    "import xarray as xr\n",
    "import matplotlib.pyplot as plt\n",
    "import matplotlib as mpl\n",
    "import matplotlib.gridspec as gridspec\n",
    "%matplotlib inline\n",
    "import hvplot.xarray\n",
    "# import hvplot.pandas\n",
    "import holoviews as hv\n",
    "hv.extension('bokeh','matplotlib')\n",
    "from holoviews import dim, opts\n",
    "import datetime as dt\n",
    "import os\n",
    "import panel as pn\n",
    "pn.extension()\n",
    "import pyproj"
   ]
  },
  {
   "cell_type": "code",
   "execution_count": null,
   "metadata": {},
   "outputs": [],
   "source": [
    "%load_ext autoreload\n",
    "# from icebath.core import berggdf as bdf\n",
    "import icebath as icebath\n",
    "from icebath.core import build_xrds\n",
    "from icebath.utils import raster_ops as raster_ops\n",
    "from icebath.utils import vector_ops as vector_ops\n",
    "from icebath.core import fl_ice_calcs as icalcs\n",
    "from icebath.core import build_gdf\n",
    "%autoreload 2"
   ]
  },
  {
   "cell_type": "markdown",
   "metadata": {},
   "source": [
    "## Read in DEMs and apply corrections (tidal, geoid)"
   ]
  },
  {
   "cell_type": "code",
   "execution_count": null,
   "metadata": {},
   "outputs": [],
   "source": [
    "#Ilulissat Isfjord Mouth, resampled to 50m using CHANGES\n",
    "# ds = build_xrds.xrds_from_dir('/home/jovyan/icebath/notebooks/supporting_docs/Elevation/ArcticDEM/Regridded_50m_tiles/n69w052/')\n",
    "\n",
    "# Ilulissat Isfjord Mouth, original 2m (the files from CHANGES seem much smaller than those from Kane/Pennell. \n",
    "# data = xr.open_rasterio('/home/jovyan/icebath/notebooks/supporting_docs/Elevation/ArcticDEM/2m_tiles/n69w052/SETSM_W1W1_20100813_102001000E959700_102001000ECB6B00_seg1_2m_v3.0_dem.tif')\n",
    "ds = build_xrds.xrds_from_dir('/Users/jessica/projects/bathymetry_from_bergs/DEMs/2m/')\n",
    "# ds = build_xrds.xrds_from_dir('/home/jovyan/icebath/notebooks/supporting_docs/Elevation/ArcticDEM/2m_tiles/')"
   ]
  },
  {
   "cell_type": "code",
   "execution_count": null,
   "metadata": {
    "scrolled": false
   },
   "outputs": [],
   "source": [
    "scrolldem = ds['elevation'].hvplot.image(x='x', y='y',datashade=False, rasterize=True, aspect='equal', cmap='magma', dynamic=True,\n",
    "                       xlabel=\"x (km)\", ylabel=\"y (km)\", colorbar=True) #turn off datashade to see hover values + colorbar\n",
    "scrolldem"
   ]
  },
  {
   "cell_type": "code",
   "execution_count": null,
   "metadata": {
    "scrolled": true
   },
   "outputs": [],
   "source": [
    "ds"
   ]
  },
  {
   "cell_type": "code",
   "execution_count": null,
   "metadata": {},
   "outputs": [],
   "source": [
    "ds.elevation.min(['x','y'], skipna=True)"
   ]
  },
  {
   "cell_type": "code",
   "execution_count": null,
   "metadata": {},
   "outputs": [],
   "source": [
    "ds.elevation.min(['x','y'], skipna=True)"
   ]
  },
  {
   "cell_type": "code",
   "execution_count": null,
   "metadata": {},
   "outputs": [],
   "source": [
    "ds.elevation.max(['x','y'], skipna=True)"
   ]
  },
  {
   "cell_type": "code",
   "execution_count": null,
   "metadata": {},
   "outputs": [],
   "source": [
    "ds.elevation.max(['x','y'], skipna=True)"
   ]
  },
  {
   "cell_type": "markdown",
   "metadata": {},
   "source": [
    "### Get and Apply Land Mask\n",
    "**Note: requires a shapefile of the land areas in the ROI**\n",
    "\n",
    "The default is to use a shapefile of Greenland: `shpfile='/home/jovyan/icebath/notebooks/supporting_docs/Land_region.shp'`, but an alternative file can be specified.\n",
    "\n",
    "Underlying code is based on: https://gis.stackexchange.com/questions/357490/mask-xarray-dataset-using-a-shapefile\n",
    "Other results used rioxarray (which isn't on my current working environment), and my previous work did it all manually with gdal."
   ]
  },
  {
   "cell_type": "code",
   "execution_count": null,
   "metadata": {},
   "outputs": [],
   "source": [
    "# shpfl.geometry.plot()"
   ]
  },
  {
   "cell_type": "code",
   "execution_count": null,
   "metadata": {},
   "outputs": [],
   "source": [
    "# ds.bergxr.get_mask(req_dim=['x','y'], req_vars=None, name='land_mask')\n",
    "ds.bergxr.get_mask(req_dim=['x','y'], req_vars=None, name='land_mask', shpfile='/Users/jessica/mapping/shpfiles/Greenland/Land_region/Land_region.shp')\n",
    "# ds.land_mask.plot()\n",
    "ds['elevation'] = ds['elevation'].where(ds.land_mask == True)"
   ]
  },
  {
   "cell_type": "markdown",
   "metadata": {},
   "source": [
    "### Apply Geoid Correction\n",
    "ArcticDEMs come as ellipsoidal height. They are corrected to geoidal height according to geoid_ht = ellipsoid - geoid_offset where geoid_offset is taken from BedMachine v3 and resampled in Xarray (using default \"linear\" interpolation for multidimensional arrays) to the resolution and extent of the region's dataset."
   ]
  },
  {
   "cell_type": "code",
   "execution_count": null,
   "metadata": {},
   "outputs": [],
   "source": [
    "ds = ds.bergxr.to_geoid()"
   ]
  },
  {
   "cell_type": "markdown",
   "metadata": {},
   "source": [
    "### Apply Tidal Correction\n",
    "\n",
    "Uses Tyler Sutterly's pyTMD library"
   ]
  },
  {
   "cell_type": "code",
   "execution_count": null,
   "metadata": {
    "scrolled": true
   },
   "outputs": [],
   "source": [
    "ds=ds.bergxr.tidal_corr(loc=[\"JI\"], model_path='/Users/jessica/computing/tidal_model_files')"
   ]
  },
  {
   "cell_type": "code",
   "execution_count": null,
   "metadata": {},
   "outputs": [],
   "source": [
    "# # test to make sure that if you already have a tidal correction it won't reapply it, and test that it will return the tides if you don't have an elevation entered\n",
    "# ds=ds.bergxr.tidal_corr(loc=[\"JI\"])\n",
    "# ds=ds.bergxr.tidal_corr(loc=[\"JI\"]) # results in assertion error\n",
    "\n",
    "# ds.attrs['offset_names'] = ('random')\n",
    "# ds=ds.bergxr.tidal_corr(loc=[\"JI\"]) # results in longer attribute list"
   ]
  },
  {
   "cell_type": "code",
   "execution_count": null,
   "metadata": {},
   "outputs": [],
   "source": [
    "# # go directly to icalcs function, called under the hood above, if you want to see plots\n",
    "# tides = icalcs.predict_tides(loc='JI',img_time=ds.dtime.values[0], model_path='/home/jovyan/pyTMD/models',\n",
    "#                     model='AOTIM-5-2018', epsg=3413, plot=True)\n",
    "# tides[2]"
   ]
  },
  {
   "cell_type": "markdown",
   "metadata": {},
   "source": [
    "## Extract Icebergs from DEM and put into Geodataframe"
   ]
  },
  {
   "cell_type": "code",
   "execution_count": null,
   "metadata": {},
   "outputs": [],
   "source": [
    "# this would be a good step to try parallelizing with Dask on - the operation can be done on multiple images at once!\n",
    "gdf = build_gdf.xarray_to_gdf(ds)"
   ]
  },
  {
   "cell_type": "code",
   "execution_count": null,
   "metadata": {
    "scrolled": true
   },
   "outputs": [],
   "source": [
    "gdf.groupby('date').berg_poly.plot()"
   ]
  },
  {
   "cell_type": "code",
   "execution_count": null,
   "metadata": {},
   "outputs": [],
   "source": [
    "# This requires geoviews be installed, and their install pages have warning if your environment uses conda-forge\n",
    "# libraries and it won't resolve the environment with a conda install, so I'll need to create a new test env to try this\n",
    "# bergs = gdf.hvplot()\n",
    "# bergs"
   ]
  },
  {
   "cell_type": "code",
   "execution_count": null,
   "metadata": {},
   "outputs": [],
   "source": [
    "# scrolldems*bergs"
   ]
  },
  {
   "cell_type": "markdown",
   "metadata": {},
   "source": [
    "## Visualizing Iceberg Outlines for a Single DEM\n",
    "Some attempts at doing this with Holoviews, including to try and have it with a slider bar, are in the misc_dev_notes_notebook, as is code for plotting a histogram of iceberg areas (originally meant to be part of the below plot and not updated to be independent)"
   ]
  },
  {
   "cell_type": "code",
   "execution_count": null,
   "metadata": {
    "scrolled": true
   },
   "outputs": [],
   "source": [
    "timei=1\n",
    "print(ds['dtime'].isel({'dtime':timei}))\n",
    "dem = ds.isel({'dtime':timei})"
   ]
  },
  {
   "cell_type": "code",
   "execution_count": null,
   "metadata": {},
   "outputs": [],
   "source": [
    "im = dem.elevation.values"
   ]
  },
  {
   "cell_type": "code",
   "execution_count": null,
   "metadata": {},
   "outputs": [],
   "source": [
    "# Plot objectives: show DEM, land mask, iceberg outlines. 2nd plot with just orig DEM?\n",
    "fig = plt.figure(figsize=(12,12)) # width, height in inches\n",
    "# gs = gridspec.GridSpec(ncols=1, nrows=2, figure=fig)\n",
    "gs=fig.add_gridspec(3,1, hspace=0.3) # nrows, ncols\n",
    "\n",
    "# DEM plot\n",
    "axDEM = plt.subplot(gs[0:2,0])\n",
    "dem.elevation.plot.pcolormesh(ax=axDEM, \n",
    "                              vmin=-10, vmax=75, cmap='magma', # vmin and vmax set the colorbar limits here\n",
    "                              xscale='linear', yscale='linear',\n",
    "                              cbar_kwargs={'label':\"Elevation (m amsl)\"})\n",
    "\n",
    "# land mask\n",
    "landcm = mpl.colors.ListedColormap([(0.5, 0.35, 0.35, 1.), (0.5, 0., 0.6, 0)])\n",
    "dem.land_mask.plot(ax=axDEM, cmap=landcm, add_colorbar=False)\n",
    "\n",
    "# iceberg contours - ultimately add this from geodataframe\n",
    "# dem.elevation.plot.contour(ax=axDEM, levels=[threshold], colors=['gray'])\n",
    "# Note: dem.elevation.plot.contour(levels=[threshold], colors=['gray']) will show the plot, but you can't\n",
    "# add it to these axes and then show it inline from a second cell\n",
    "# I'm not entirely sure this is plotting what I think; it's also not actually plotting the contoured data \n",
    "gdf.loc[gdf['date']==ds.dtime.isel({'dtime':timei}).values].berg_poly.plot(ax=axDEM,\n",
    "                                                                          linestyle='-',\n",
    "                                                                          linewidth=2,\n",
    "                                                                          edgecolor='gray',\n",
    "                                                                          facecolor=(0,0,0,0))\n",
    "\n",
    "\n",
    "xmin = -250000\n",
    "xmax = -232750\n",
    "ymin = -2268250\n",
    "ymax = -2251000\n",
    "# xmin = -235000 #zoom in to figure out empty iceberg DEM during gdf generation\n",
    "# xmax = -233000\n",
    "# ymin = -2257500\n",
    "# ymax = -2255000\n",
    "while (xmin-xmax) != (ymin-ymax):\n",
    "    print(\"modify your x and y min/max to make the areas equal\")\n",
    "    break\n",
    "    \n",
    "axDEM.set_aspect('equal')\n",
    "axDEM.set_xlim(xmin, xmax)\n",
    "axDEM.set_ylim(ymin, ymax)\n",
    "\n",
    "axDEM.set_xlabel(\"x (km)\")\n",
    "axDEM.set_ylabel(\"y (km)\")\n",
    "\n",
    "\n",
    "plt.show()"
   ]
  },
  {
   "cell_type": "code",
   "execution_count": null,
   "metadata": {
    "scrolled": true
   },
   "outputs": [],
   "source": [
    "# Note: gdf['date']==timei is returning all false, so the datetimes will need to be dealt with to get the areas from the geometry column\n",
    "# areas = gdf.loc[:, gdf['date']==timei].geometry.area()"
   ]
  },
  {
   "cell_type": "code",
   "execution_count": null,
   "metadata": {},
   "outputs": [],
   "source": []
  },
  {
   "cell_type": "code",
   "execution_count": null,
   "metadata": {},
   "outputs": [],
   "source": [
    "# Plot objectives: show DEM, land mask, iceberg outlines. 2nd plot with just orig DEM? 3rd plot with histogram...\n",
    "fig = plt.figure(figsize=(12,12)) # width, height in inches\n",
    "# gs = gridspec.GridSpec(ncols=1, nrows=2, figure=fig)\n",
    "gs=fig.add_gridspec(3,1, hspace=0.3) # nrows, ncols\n",
    "\n",
    "# DEM plot\n",
    "axDEM = plt.subplot(gs[0:2,0])\n",
    "dem.elevation.plot.pcolormesh(ax=axDEM, \n",
    "                              vmin=-10, vmax=75, cmap='magma', # vmin and vmax set the colorbar limits here\n",
    "                              xscale='linear', yscale='linear',\n",
    "                              cbar_kwargs={'label':\"Elevation (m amsl)\"})\n",
    "\n",
    "# land mask\n",
    "landcm = mpl.colors.ListedColormap([(0.5, 0.35, 0.35, 1.), (0.5, 0., 0.6, 0)])\n",
    "dem.land_mask.plot(ax=axDEM, cmap=landcm, add_colorbar=False)\n",
    "\n",
    "# iceberg contours - ultimately add this from geodataframe\n",
    "# dem.elevation.plot.contour(ax=axDEM, levels=[threshold], colors=['gray'])\n",
    "# Note: dem.elevation.plot.contour(levels=[threshold], colors=['gray']) will show the plot, but you can't\n",
    "# add it to these axes and then show it inline from a second cell\n",
    "# I'm not entirely sure this is plotting what I think; it's also not actually plotting the contoured data \n",
    "gdf.loc[gdf['date']==ds.dtime.isel({'dtime':timei}).values].berg_poly.plot(ax=axDEM,\n",
    "                                                                          linestyle='-',\n",
    "                                                                          linewidth=2,\n",
    "                                                                          edgecolor='gray',\n",
    "                                                                          facecolor=(0,0,0,0))\n",
    "\n",
    "\n",
    "# xmin = -250000\n",
    "# xmax = -232750\n",
    "# ymin = -2268250\n",
    "# ymax = -2251000\n",
    "xmin = -235000 #zoom in to figure out empty iceberg DEM during gdf generation\n",
    "xmax = -233000\n",
    "ymin = -2257500\n",
    "ymax = -2255000\n",
    "while (xmin-xmax) != (ymin-ymax):\n",
    "    print(\"modify your x and y min/max to make the areas equal\")\n",
    "    break\n",
    "    \n",
    "axDEM.set_aspect('equal')\n",
    "axDEM.set_xlim(xmin, xmax)\n",
    "axDEM.set_ylim(ymin, ymax)\n",
    "\n",
    "axDEM.set_xlabel(\"x (km)\")\n",
    "axDEM.set_ylabel(\"y (km)\")\n",
    "\n",
    "\n",
    "plt.show()"
   ]
  },
  {
   "cell_type": "code",
   "execution_count": null,
   "metadata": {},
   "outputs": [],
   "source": [
    "# also, look into a sea level adjustment for all bergs (many are nan)\n",
    "gdf.sl_adjust"
   ]
  },
  {
   "cell_type": "markdown",
   "metadata": {},
   "source": [
    "## Compute Water Depths on Icebergs"
   ]
  },
  {
   "cell_type": "code",
   "execution_count": null,
   "metadata": {},
   "outputs": [],
   "source": [
    "gdf.berggdf.calc_filt_draft()"
   ]
  },
  {
   "cell_type": "code",
   "execution_count": null,
   "metadata": {},
   "outputs": [],
   "source": [
    "gdf.berggdf.calc_rowwise_medmaxmad('filtered_draft')"
   ]
  },
  {
   "cell_type": "code",
   "execution_count": null,
   "metadata": {},
   "outputs": [],
   "source": [
    "gdf.berggdf.wat_depth_uncert('filtered_draft')"
   ]
  },
  {
   "cell_type": "code",
   "execution_count": null,
   "metadata": {},
   "outputs": [],
   "source": [
    "print(np.median(gdf.filtered_draft_med.values))\n",
    "print(np.nanmax(gdf.filtered_draft_med.values))"
   ]
  },
  {
   "cell_type": "code",
   "execution_count": null,
   "metadata": {},
   "outputs": [],
   "source": [
    "shpgdf = gdf.copy(deep=True)\n",
    "shpgdf['year'] = shpgdf['date'].dt.year.astype(int)\n",
    "\n",
    "del shpgdf['date']\n",
    "del shpgdf['DEMarray']\n",
    "del shpgdf['filtered_draft']\n",
    "\n",
    "# NOTE: need to rename columns due to name length limits for shapefile; otherwise,\n",
    "# all ended up as \"filtered_#\"\n",
    "\n",
    "shpgdf.to_file(\"/Users/jessica/projects/bathymetry_from_bergs/prelim_results/pot_icebergs_JI_seg.shp\")"
   ]
  },
  {
   "cell_type": "code",
   "execution_count": null,
   "metadata": {},
   "outputs": [],
   "source": [
    "mmm(gdf.berg_poly.area)"
   ]
  },
  {
   "cell_type": "code",
   "execution_count": null,
   "metadata": {},
   "outputs": [],
   "source": [
    "def mmm(vals): # mmm = min, med, max\n",
    "    print(np.nanmin(vals))\n",
    "    print(np.nanmedian(vals))\n",
    "    print(np.nanmax(vals))"
   ]
  },
  {
   "cell_type": "code",
   "execution_count": null,
   "metadata": {},
   "outputs": [],
   "source": []
  }
 ],
 "metadata": {
  "kernelspec": {
   "display_name": "Python 3",
   "language": "python",
   "name": "python3"
  },
  "language_info": {
   "codemirror_mode": {
    "name": "ipython",
    "version": 3
   },
   "file_extension": ".py",
   "mimetype": "text/x-python",
   "name": "python",
   "nbconvert_exporter": "python",
   "pygments_lexer": "ipython3",
   "version": "3.8.6"
  }
 },
 "nbformat": 4,
 "nbformat_minor": 4
}
